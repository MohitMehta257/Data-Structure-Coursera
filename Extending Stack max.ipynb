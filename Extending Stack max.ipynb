{
 "cells": [
  {
   "cell_type": "code",
   "execution_count": null,
   "metadata": {},
   "outputs": [],
   "source": [
    "import sys\n",
    "\n",
    "class StackWithMax():\n",
    "    def __init__(self):\n",
    "        self.main=[]\n",
    "        self.track=[]\n",
    "\n",
    "    def Push(self, x):\n",
    "        self.main.append(x)\n",
    "        if len(self.main)==1:\n",
    "            self.track.append(x)\n",
    "            return\n",
    "        if(x>self.track[-1]):\n",
    "            self.track.append(x)\n",
    "        else:\n",
    "            self.track.append(self.track[-1])\n",
    "\n",
    "    def Pop(self):\n",
    "        self.main.pop()\n",
    "        self.track.pop()\n",
    "\n",
    "    def Max(self):\n",
    "        return self.track[-1]\n",
    "\n",
    "\n",
    "if __name__ == '__main__':\n",
    "    stack = StackWithMax()\n",
    "\n",
    "    num_queries = int(sys.stdin.readline())\n",
    "    for _ in range(num_queries):\n",
    "        query = sys.stdin.readline().split()\n",
    "\n",
    "        if query[0] == \"push\":\n",
    "            stack.Push(int(query[1]))\n",
    "        elif query[0] == \"pop\":\n",
    "            stack.Pop()\n",
    "        elif query[0] == \"max\":\n",
    "            print(stack.Max())\n",
    "        else:\n",
    "            assert(0)"
   ]
  }
 ],
 "metadata": {
  "kernelspec": {
   "display_name": "Python 3",
   "language": "python",
   "name": "python3"
  },
  "language_info": {
   "codemirror_mode": {
    "name": "ipython",
    "version": 3
   },
   "file_extension": ".py",
   "mimetype": "text/x-python",
   "name": "python",
   "nbconvert_exporter": "python",
   "pygments_lexer": "ipython3",
   "version": "3.7.6"
  }
 },
 "nbformat": 4,
 "nbformat_minor": 4
}
